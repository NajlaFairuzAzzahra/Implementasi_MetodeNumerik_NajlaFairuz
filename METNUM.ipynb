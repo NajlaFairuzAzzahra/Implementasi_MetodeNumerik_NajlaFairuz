{
  "nbformat": 4,
  "nbformat_minor": 0,
  "metadata": {
    "colab": {
      "provenance": []
    },
    "kernelspec": {
      "name": "python3",
      "display_name": "Python 3"
    },
    "language_info": {
      "name": "python"
    }
  },
  "cells": [
    {
      "cell_type": "markdown",
      "source": [
        "Inverse Matrix Method (yang memiliki balikan)"
      ],
      "metadata": {
        "id": "HPtNCh_4PWzb"
      }
    },
    {
      "cell_type": "code",
      "source": [
        "import numpy as np\n",
        "\n",
        "def inverse_matrix(matrix):\n",
        "    try:\n",
        "        # Menggunakan fungsi inv dari NumPy untuk menghitung matriks balikan\n",
        "        inverse = np.linalg.inv(matrix)\n",
        "        return inverse\n",
        "    except np.linalg.LinAlgError:\n",
        "        # Jika matriks tidak memiliki balikan, raise exception\n",
        "        raise ValueError(\"Matriks tidak memiliki balikan.\")\n",
        "\n",
        "# Fungsi untuk mencetak matriks\n",
        "def print_matrix(matrix):\n",
        "    for row in matrix:\n",
        "        print(row)\n",
        "\n",
        "# Matriks contoh\n",
        "matrix = np.array([[1, 2],\n",
        "                    [3, 4]])\n",
        "\n",
        "\n",
        "print(\"Matrix:\")\n",
        "print_matrix(matrix)\n",
        "\n",
        "try:\n",
        "    # Menghitung matriks balikan\n",
        "    inv_matrix = inverse_matrix(matrix)\n",
        "    print(\"\\nInverse Matrix:\")\n",
        "    print_matrix(inv_matrix)\n",
        "except ValueError as e:\n",
        "    print(\"\\nError:\", e)\n"
      ],
      "metadata": {
        "colab": {
          "base_uri": "https://localhost:8080/"
        },
        "id": "QiXA1-OeJIaf",
        "outputId": "919b8d5b-ee40-45c6-84c3-9f67f4639dd3"
      },
      "execution_count": null,
      "outputs": [
        {
          "output_type": "stream",
          "name": "stdout",
          "text": [
            "Matrix:\n",
            "[1 2]\n",
            "[3 4]\n",
            "\n",
            "Inverse Matrix:\n",
            "[-2.  1.]\n",
            "[ 1.5 -0.5]\n"
          ]
        }
      ]
    },
    {
      "cell_type": "markdown",
      "source": [
        "Decompisition LU Gauss Method"
      ],
      "metadata": {
        "id": "fcFJziwXPtfa"
      }
    },
    {
      "cell_type": "code",
      "source": [
        "import numpy as np\n",
        "\n",
        "def lu_decomposition(matrix):\n",
        "    n = len(matrix)\n",
        "    # Inisialisasi matriks L dengan matriks identitas\n",
        "    L = np.eye(n)\n",
        "    # Inisialisasi matriks U dengan nol\n",
        "    U = np.zeros((n, n))\n",
        "\n",
        "    for k in range(n):\n",
        "        # Mengisi elemen diagonal utama matriks U\n",
        "        U[k, k] = matrix[k, k]\n",
        "        # Mengisi elemen bagian atas matriks U dan elemen bawah matriks L\n",
        "        for i in range(k + 1, n):\n",
        "            L[i, k] = matrix[i, k] / U[k, k]\n",
        "            U[k, i] = matrix[k, i]\n",
        "        # Mengurangi matriks asli dengan hasil perkalian matriks L dan U\n",
        "        for i in range(k + 1, n):\n",
        "            for j in range(k + 1, n):\n",
        "                matrix[i, j] -= L[i, k] * U[k, j]\n",
        "\n",
        "    return L, U\n",
        "\n",
        "# Fungsi untuk mencetak matriks\n",
        "def print_matrix(matrix):\n",
        "    for row in matrix:\n",
        "        print(row)\n",
        "\n",
        "# Matriks contoh\n",
        "matrix = np.array([[1, 2],\n",
        "                    [3, 4]])\n",
        "\n",
        "\n",
        "print(\"Matrix:\")\n",
        "print_matrix(matrix)\n",
        "\n",
        "try:\n",
        "    # Melakukan dekomposisi LU\n",
        "    L, U = lu_decomposition(matrix)\n",
        "    print(\"\\nLower Triangular Matrix (L):\")\n",
        "    print_matrix(L)\n",
        "    print(\"\\nUpper Triangular Matrix (U):\")\n",
        "    print_matrix(U)\n",
        "except np.linalg.LinAlgError as e:\n",
        "    print(\"\\nError:\", e)\n"
      ],
      "metadata": {
        "colab": {
          "base_uri": "https://localhost:8080/"
        },
        "id": "rHe4CXLHP5l0",
        "outputId": "d1e7eecd-aa3d-431b-be48-8c969c492be6"
      },
      "execution_count": null,
      "outputs": [
        {
          "output_type": "stream",
          "name": "stdout",
          "text": [
            "Matrix:\n",
            "[1 2]\n",
            "[3 4]\n",
            "\n",
            "Lower Triangular Matrix (L):\n",
            "[1. 0.]\n",
            "[3. 1.]\n",
            "\n",
            "Upper Triangular Matrix (U):\n",
            "[1. 2.]\n",
            "[ 0. -2.]\n"
          ]
        }
      ]
    },
    {
      "cell_type": "markdown",
      "source": [
        "Decompisition Croud Method"
      ],
      "metadata": {
        "id": "cqUBOtMYR7cI"
      }
    },
    {
      "cell_type": "code",
      "source": [
        "import numpy as np\n",
        "\n",
        "def crout_decomposition(matrix):\n",
        "    n = len(matrix)\n",
        "    L = np.zeros((n, n))\n",
        "    U = np.eye(n)\n",
        "\n",
        "    for k in range(n):\n",
        "        L[k, k] = 1\n",
        "        for j in range(k, n):\n",
        "            U[k, j] = matrix[k, j] - sum(L[k, i] * U[i, j] for i in range(k))\n",
        "        for i in range(k + 1, n):\n",
        "            L[i, k] = (matrix[i, k] - sum(L[i, j] * U[j, k] for j in range(k))) / U[k, k]\n",
        "\n",
        "    return L, U\n",
        "\n",
        "# Fungsi untuk mencetak matriks\n",
        "def print_matrix(matrix):\n",
        "    for row in matrix:\n",
        "        print(row)\n",
        "\n",
        "# Matriks contoh\n",
        "matrix = np.array([[1, 2],\n",
        "                    [3, 4]])\n",
        "\n",
        "\n",
        "print(\"Matrix:\")\n",
        "print_matrix(matrix)\n",
        "\n",
        "try:\n",
        "    # Melakukan dekomposisi Crout\n",
        "    L, U = crout_decomposition(matrix)\n",
        "    print(\"\\nLower Triangular Matrix (L):\")\n",
        "    print_matrix(L)\n",
        "    print(\"\\nUpper Triangular Matrix (U):\")\n",
        "    print_matrix(U)\n",
        "except np.linalg.LinAlgError as e:\n",
        "    print(\"\\nError:\", e)\n"
      ],
      "metadata": {
        "colab": {
          "base_uri": "https://localhost:8080/"
        },
        "id": "wxViOZBHR_PS",
        "outputId": "420cc788-5a99-46b9-b6c0-99bab8536216"
      },
      "execution_count": null,
      "outputs": [
        {
          "output_type": "stream",
          "name": "stdout",
          "text": [
            "Matrix:\n",
            "[1 2]\n",
            "[3 4]\n",
            "\n",
            "Lower Triangular Matrix (L):\n",
            "[1. 0.]\n",
            "[3. 1.]\n",
            "\n",
            "Upper Triangular Matrix (U):\n",
            "[1. 2.]\n",
            "[ 0. -2.]\n"
          ]
        }
      ]
    }
  ]
}